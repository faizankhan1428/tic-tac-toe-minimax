{
 "cells": [
  {
   "cell_type": "markdown",
   "id": "3013f0c4",
   "metadata": {
    "_cell_guid": "b1076dfc-b9ad-4769-8c92-a6c4dae69d19",
    "_uuid": "8f2839f25d086af736a60e9eeb907d3b93b6e0e5",
    "papermill": {
     "duration": 0.002216,
     "end_time": "2025-07-24T09:33:54.504550",
     "exception": false,
     "start_time": "2025-07-24T09:33:54.502334",
     "status": "completed"
    },
    "tags": []
   },
   "source": [
    "<div style=\"background-color:#e6f0ff; padding:15px; border-radius:10px; font-size:16px\">\n",
    "\n",
    "### 🎮 Game AI – Exercise 2: Tic Tac Toe with Minimax (Strategic AI)\n",
    "\n",
    "</div>"
   ]
  },
  {
   "cell_type": "markdown",
   "id": "3c7834db",
   "metadata": {
    "papermill": {
     "duration": 0.00175,
     "end_time": "2025-07-24T09:33:54.508088",
     "exception": false,
     "start_time": "2025-07-24T09:33:54.506338",
     "status": "completed"
    },
    "tags": []
   },
   "source": [
    "## Objective:\n",
    "Implement an AI that plays Tic Tac Toe using the Minimax algorithm, allowing the AI to make the best possible move each turn."
   ]
  },
  {
   "cell_type": "markdown",
   "id": "52a169d5",
   "metadata": {
    "papermill": {
     "duration": 0.001252,
     "end_time": "2025-07-24T09:33:54.511126",
     "exception": false,
     "start_time": "2025-07-24T09:33:54.509874",
     "status": "completed"
    },
    "tags": []
   },
   "source": [
    "##  Tic Tac Toe game"
   ]
  },
  {
   "cell_type": "code",
   "execution_count": 1,
   "id": "90932965",
   "metadata": {
    "execution": {
     "iopub.execute_input": "2025-07-24T09:33:54.515371Z",
     "iopub.status.busy": "2025-07-24T09:33:54.515085Z",
     "iopub.status.idle": "2025-07-24T09:33:54.618329Z",
     "shell.execute_reply": "2025-07-24T09:33:54.617328Z"
    },
    "papermill": {
     "duration": 0.107171,
     "end_time": "2025-07-24T09:33:54.619745",
     "exception": false,
     "start_time": "2025-07-24T09:33:54.512574",
     "status": "completed"
    },
    "tags": []
   },
   "outputs": [
    {
     "name": "stdout",
     "output_type": "stream",
     "text": [
      "Initial Board:\n",
      "[' ', ' ', ' ']\n",
      "[' ', ' ', ' ']\n",
      "[' ', ' ', ' ']\n",
      "\n",
      "Move 1:\n",
      "['X', ' ', ' ']\n",
      "[' ', ' ', ' ']\n",
      "[' ', ' ', ' ']\n",
      "\n",
      "Move 2:\n",
      "['X', ' ', ' ']\n",
      "[' ', 'O', ' ']\n",
      "[' ', ' ', ' ']\n",
      "\n",
      "Move 3:\n",
      "['X', ' ', ' ']\n",
      "[' ', 'X', ' ']\n",
      "[' ', ' ', ' ']\n",
      "\n",
      "Move 4:\n",
      "['X', 'O', ' ']\n",
      "[' ', 'X', ' ']\n",
      "[' ', ' ', ' ']\n",
      "\n",
      "Move 5:\n",
      "['X', 'O', ' ']\n",
      "[' ', 'X', ' ']\n",
      "[' ', ' ', 'X']\n",
      "\n",
      "Winner: X\n"
     ]
    }
   ],
   "source": [
    "import math\n",
    "import random\n",
    "\n",
    "# Board is a list of 9 elements representing the grid\n",
    "def print_board(board):\n",
    "    for i in range(3):\n",
    "        print(board[i*3:(i+1)*3])\n",
    "\n",
    "def check_winner(board):\n",
    "    win_cond = [(0,1,2),(3,4,5),(6,7,8), # rows\n",
    "                (0,3,6),(1,4,7),(2,5,8), # cols\n",
    "                (0,4,8),(2,4,6)]         # diagonals\n",
    "    for i, j, k in win_cond:\n",
    "        if board[i] == board[j] == board[k] and board[i] != ' ':\n",
    "            return board[i]\n",
    "    return None\n",
    "\n",
    "def is_draw(board):\n",
    "    return ' ' not in board and check_winner(board) is None\n",
    "\n",
    "def minimax(board, is_maximizing):\n",
    "    winner = check_winner(board)\n",
    "    if winner == 'O':\n",
    "        return 1\n",
    "    elif winner == 'X':\n",
    "        return -1\n",
    "    elif is_draw(board):\n",
    "        return 0\n",
    "\n",
    "    if is_maximizing:\n",
    "        best_score = -math.inf\n",
    "        for i in range(9):\n",
    "            if board[i] == ' ':\n",
    "                board[i] = 'O'\n",
    "                score = minimax(board, False)\n",
    "                board[i] = ' '\n",
    "                best_score = max(score, best_score)\n",
    "        return best_score\n",
    "    else:\n",
    "        best_score = math.inf\n",
    "        for i in range(9):\n",
    "            if board[i] == ' ':\n",
    "                board[i] = 'X'\n",
    "                score = minimax(board, True)\n",
    "                board[i] = ' '\n",
    "                best_score = min(score, best_score)\n",
    "        return best_score\n",
    "\n",
    "def ai_move(board):\n",
    "    best_score = -math.inf\n",
    "    move = None\n",
    "    for i in range(9):\n",
    "        if board[i] == ' ':\n",
    "            board[i] = 'O'\n",
    "            score = minimax(board, False)\n",
    "            board[i] = ' '\n",
    "            if score > best_score:\n",
    "                best_score = score\n",
    "                move = i\n",
    "    return move\n",
    "\n",
    "# Simulated player moves for testing on Kaggle\n",
    "player_moves = [0, 4, 8]  # Example moves for 'X'\n",
    "current_move = 0\n",
    "\n",
    "board = [' '] * 9\n",
    "print(\"Initial Board:\")\n",
    "print_board(board)\n",
    "\n",
    "for turn in range(9):\n",
    "    if turn % 2 == 0:\n",
    "        # Simulated player move\n",
    "        move = player_moves[current_move]\n",
    "        current_move += 1\n",
    "        board[move] = 'X'\n",
    "    else:\n",
    "        move = ai_move(board)\n",
    "        board[move] = 'O'\n",
    "\n",
    "    print(f\"\\nMove {turn+1}:\")\n",
    "    print_board(board)\n",
    "\n",
    "    winner = check_winner(board)\n",
    "    if winner:\n",
    "        print(f\"\\nWinner: {winner}\")\n",
    "        break\n",
    "    if is_draw(board):\n",
    "        print(\"\\nIt's a draw!\")\n",
    "        break"
   ]
  },
  {
   "cell_type": "markdown",
   "id": "845eaad2",
   "metadata": {
    "papermill": {
     "duration": 0.001451,
     "end_time": "2025-07-24T09:33:54.623096",
     "exception": false,
     "start_time": "2025-07-24T09:33:54.621645",
     "status": "completed"
    },
    "tags": []
   },
   "source": [
    "## ✅ Summary:\n",
    "This Game AI exercise focuses on implementing the Minimax algorithm to build an unbeatable AI for Tic Tac Toe. Instead of using user input, the game uses simulated player moves to allow Kaggle execution. The AI always plays optimally, and the result showcases how strategic decision-making works in simple 2-player games."
   ]
  }
 ],
 "metadata": {
  "kaggle": {
   "accelerator": "none",
   "dataSources": [],
   "dockerImageVersionId": 31089,
   "isGpuEnabled": false,
   "isInternetEnabled": true,
   "language": "python",
   "sourceType": "notebook"
  },
  "kernelspec": {
   "display_name": "Python 3",
   "language": "python",
   "name": "python3"
  },
  "language_info": {
   "codemirror_mode": {
    "name": "ipython",
    "version": 3
   },
   "file_extension": ".py",
   "mimetype": "text/x-python",
   "name": "python",
   "nbconvert_exporter": "python",
   "pygments_lexer": "ipython3",
   "version": "3.11.13"
  },
  "papermill": {
   "default_parameters": {},
   "duration": 5.099016,
   "end_time": "2025-07-24T09:33:54.943294",
   "environment_variables": {},
   "exception": null,
   "input_path": "__notebook__.ipynb",
   "output_path": "__notebook__.ipynb",
   "parameters": {},
   "start_time": "2025-07-24T09:33:49.844278",
   "version": "2.6.0"
  }
 },
 "nbformat": 4,
 "nbformat_minor": 5
}
